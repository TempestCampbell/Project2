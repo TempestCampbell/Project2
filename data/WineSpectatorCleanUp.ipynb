{
 "cells": [
  {
   "cell_type": "code",
   "execution_count": 21,
   "metadata": {},
   "outputs": [],
   "source": [
    "import pandas as pd"
   ]
  },
  {
   "cell_type": "code",
   "execution_count": 29,
   "metadata": {},
   "outputs": [
    {
     "data": {
      "text/plain": [
       "{'objectId': 'pVD1B5HTEr',\n",
       " 'Rank': 40,\n",
       " 'Wine': \"Ca' del Bosco Maurizio Zanella +\",\n",
       " 'Winery': \"Ca' del Bosco\",\n",
       " 'Vintage': 1985,\n",
       " 'Score': 92,\n",
       " 'Price': 38,\n",
       " 'Notes': 'Smooth and supple, with rich berry, cherry and smoky flavors, velvety and expansive on the palate, yet elegant and balanced with acidity. Blends the best of Sangiovese and Cabernet, plus a nice touch of oak, and it feels like it can only get better. Drink now through 1992. —',\n",
       " 'ListYear': 1988,\n",
       " 'createdAt': '2020-03-09T12:43:04.927Z',\n",
       " 'updatedAt': '2020-03-09T12:43:04.927Z'}"
      ]
     },
     "execution_count": 29,
     "metadata": {},
     "output_type": "execute_result"
    }
   ],
   "source": [
    "import json\n",
    "import urllib\n",
    "import requests\n",
    "\n",
    "url = 'https://parseapi.back4app.com/classes/top100?skip=0&order=ListYear'\n",
    "# https://parseapi.back4app.com/classes/top100?skip=100&order=ListYear\n",
    "headers = {\n",
    "    'X-Parse-Application-Id': 'ahcIqV3eVlD2kiltn2kLf9ewWo8URJ1QC2V4udJC', # This is the fake app's application id\n",
    "    'X-Parse-Master-Key': '2TRj0qgPlJotQJn3uPwNTUxTAbKdWB6szvQ1vcWc' # This is the fake app's readonly master key\n",
    "}\n",
    "data = json.loads(requests.get(url, headers=headers).content.decode('utf-8')) # Here you have the data that you need\n",
    "data['results'][27]"
   ]
  },
  {
   "cell_type": "code",
   "execution_count": 27,
   "metadata": {},
   "outputs": [
    {
     "ename": "KeyError",
     "evalue": "'Vintage'",
     "output_type": "error",
     "traceback": [
      "\u001b[1;31m---------------------------------------------------------------------------\u001b[0m",
      "\u001b[1;31mKeyError\u001b[0m                                  Traceback (most recent call last)",
      "\u001b[1;32m<ipython-input-27-d102860bde46>\u001b[0m in \u001b[0;36m<module>\u001b[1;34m\u001b[0m\n\u001b[0;32m     14\u001b[0m         \u001b[0mreference\u001b[0m\u001b[1;33m=\u001b[0m\u001b[0mdata\u001b[0m\u001b[1;33m[\u001b[0m\u001b[1;34m'results'\u001b[0m\u001b[1;33m]\u001b[0m\u001b[1;33m[\u001b[0m\u001b[0mi\u001b[0m\u001b[1;33m]\u001b[0m\u001b[1;33m\u001b[0m\u001b[1;33m\u001b[0m\u001b[0m\n\u001b[0;32m     15\u001b[0m         allWines.append({\"Rank\":reference['Rank'], \"Wine\":reference['Wine'],\"Winery\":reference['Winery'],\n\u001b[1;32m---> 16\u001b[1;33m                          \u001b[1;34m\"Vintage\"\u001b[0m\u001b[1;33m:\u001b[0m\u001b[0mreference\u001b[0m\u001b[1;33m[\u001b[0m\u001b[1;34m'Vintage'\u001b[0m\u001b[1;33m]\u001b[0m\u001b[1;33m,\u001b[0m\u001b[1;34m\"Score\"\u001b[0m\u001b[1;33m:\u001b[0m\u001b[0mreference\u001b[0m\u001b[1;33m[\u001b[0m\u001b[1;34m'Score'\u001b[0m\u001b[1;33m]\u001b[0m\u001b[1;33m,\u001b[0m\u001b[1;34m\"Price\"\u001b[0m\u001b[1;33m:\u001b[0m\u001b[0mreference\u001b[0m\u001b[1;33m[\u001b[0m\u001b[1;34m'Price'\u001b[0m\u001b[1;33m]\u001b[0m\u001b[1;33m,\u001b[0m\u001b[1;33m\u001b[0m\u001b[1;33m\u001b[0m\u001b[0m\n\u001b[0m\u001b[0;32m     17\u001b[0m                          \"Notes\":reference['Notes'],\"ListYear\":reference['ListYear']})\n\u001b[0;32m     18\u001b[0m     \u001b[0mskip\u001b[0m\u001b[1;33m=\u001b[0m\u001b[0mskip\u001b[0m\u001b[1;33m+\u001b[0m\u001b[1;36m100\u001b[0m\u001b[1;33m\u001b[0m\u001b[1;33m\u001b[0m\u001b[0m\n",
      "\u001b[1;31mKeyError\u001b[0m: 'Vintage'"
     ]
    }
   ],
   "source": [
    "headers = {\n",
    "    'X-Parse-Application-Id': 'ahcIqV3eVlD2kiltn2kLf9ewWo8URJ1QC2V4udJC', # This is the fake app's application id\n",
    "    'X-Parse-Master-Key': '2TRj0qgPlJotQJn3uPwNTUxTAbKdWB6szvQ1vcWc' # This is the fake app's readonly master key\n",
    "}\n",
    "\n",
    "allWines = []\n",
    "skip=0;\n",
    "\n",
    "for x in range (0,32):\n",
    "    url = f'https://parseapi.back4app.com/classes/top100?skip={skip}&order=ListYear'\n",
    "    data = json.loads(requests.get(url, headers=headers).content.decode('utf-8')) \n",
    "    \n",
    "    for i in range (0,100):\n",
    "        reference=data['results'][i]\n",
    "        try:\n",
    "            rank=reference['Rank']\n",
    "            wine=reference['Wine']\n",
    "            winery=\n",
    "            vintage=\n",
    "            score=\n",
    "            price=\n",
    "            notes=\n",
    "            listYear=\n",
    "            \n",
    "            allWines.append({\"Rank\":rank, \"Wine\":wine,\"Winery\":reference['Winery'],\n",
    "                         \"Vintage\":reference['Vintage'],\"Score\":reference['Score'],\"Price\":reference['Price'],\n",
    "                         \"Notes\":reference['Notes'],\"ListYear\":reference['ListYear']})\n",
    "    skip=skip+100\n",
    "        "
   ]
  },
  {
   "cell_type": "code",
   "execution_count": 19,
   "metadata": {},
   "outputs": [
    {
     "data": {
      "text/plain": [
       "3200"
      ]
     },
     "execution_count": 19,
     "metadata": {},
     "output_type": "execute_result"
    }
   ],
   "source": [
    "len(allWines)"
   ]
  },
  {
   "cell_type": "code",
   "execution_count": 22,
   "metadata": {},
   "outputs": [
    {
     "data": {
      "text/plain": [
       "<bound method NDFrame.head of         objectId  Rank                                               Wine  \\\n",
       "0     de75SI9J1Y    24                Antinori Chianti Classico Pèppoli +   \n",
       "1     ynh2gxz4ai    29  Bonny Doon Pinot Noir Oregon Bethel Heights Vi...   \n",
       "2     tro9v7MRzz    19        René & Vincent Dauvissat Chablis Les Clos +   \n",
       "3     636ryBtbUy     1                     Château Lynch Bages Pauillac +   \n",
       "4     obaWu24V9W    31  B.R. Cohn Cabernet Sauvignon Sonoma Valley Oli...   \n",
       "...          ...   ...                                                ...   \n",
       "3195  J6jBjTPCZi    99       Domaines Dominique Piron Morgon Côte du Py +   \n",
       "3196  obq9UcUmof    97      Château Pichon Longueville Lalande Pauillac +   \n",
       "3197  vCp9GYuQ6l    98                       Wine & Soul Douro Manoella +   \n",
       "3198  qeGIEFJXMT    92         Rafael Palacios Godello Valdeorras Louro +   \n",
       "3199  hADwIpbSbz    94             Favia Cabernet Sauvignon Coombsville +   \n",
       "\n",
       "                                  Winery  Vintage  Score  Price  \\\n",
       "0                               Antinori   1985.0     92   16.0   \n",
       "1                             Bonny Doon   1985.0     90   18.0   \n",
       "2               René & Vincent Dauvissat   1986.0     95   40.0   \n",
       "3                    Château Lynch Bages   1985.0     97   37.0   \n",
       "4                              B.R. Cohn   1985.0     94   16.0   \n",
       "...                                  ...      ...    ...    ...   \n",
       "3195            Domaines Dominique Piron   2017.0     92   28.0   \n",
       "3196  Château Pichon Longueville Lalande   2016.0     97  197.0   \n",
       "3197                         Wine & Soul   2016.0     90   22.0   \n",
       "3198                     Rafael Palacios   2017.0     90   24.0   \n",
       "3199                               Favia   2016.0     95  175.0   \n",
       "\n",
       "                                                  Notes  ListYear  \\\n",
       "0     Concentrated and beautifully formed, with shar...      1988   \n",
       "1     Very pretty aromas and flavors, featuring viol...      1988   \n",
       "2     Toasty and concentrated with rich pear, apple,...      1988   \n",
       "3     Rich and massively concentrated, with layers o...      1988   \n",
       "4     Gorgeous fruit, rich, supple, satiny with beau...      1988   \n",
       "...                                                 ...       ...   \n",
       "3195  A vivid minerally undertone marks the pure ras...      2019   \n",
       "3196  Saturated with dark currant, fig and blackberr...      2019   \n",
       "3197  Zesty currant and boysenberry notes are tangy ...      2019   \n",
       "3198  Peach, quince and lime flavors mingle with not...      2019   \n",
       "3199  Ripe and vivid, with a stream of boysenberry, ...      2019   \n",
       "\n",
       "                     createdAt                 updatedAt  \n",
       "0     2020-03-09T12:43:04.921Z  2020-03-09T12:43:04.921Z  \n",
       "1     2020-03-09T12:43:04.921Z  2020-03-09T12:43:04.921Z  \n",
       "2     2020-03-09T12:43:04.920Z  2020-03-09T12:43:04.920Z  \n",
       "3     2020-03-09T12:43:04.920Z  2020-03-09T12:43:04.920Z  \n",
       "4     2020-03-09T12:43:04.927Z  2020-03-09T12:43:04.927Z  \n",
       "...                        ...                       ...  \n",
       "3195  2020-03-09T12:43:06.465Z  2020-03-09T12:43:06.465Z  \n",
       "3196  2020-03-09T12:43:06.465Z  2020-03-09T12:43:06.465Z  \n",
       "3197  2020-03-09T12:43:06.465Z  2020-03-09T12:43:06.465Z  \n",
       "3198  2020-03-09T12:43:06.465Z  2020-03-09T12:43:06.465Z  \n",
       "3199  2020-03-09T12:43:06.465Z  2020-03-09T12:43:06.465Z  \n",
       "\n",
       "[3200 rows x 11 columns]>"
      ]
     },
     "execution_count": 22,
     "metadata": {},
     "output_type": "execute_result"
    }
   ],
   "source": [
    "wineDF=pd.DataFrame(allWines)\n",
    "wineDF.head"
   ]
  },
  {
   "cell_type": "code",
   "execution_count": null,
   "metadata": {},
   "outputs": [],
   "source": [
    "\n"
   ]
  }
 ],
 "metadata": {
  "kernelspec": {
   "display_name": "Python [conda env:PythonData] *",
   "language": "python",
   "name": "conda-env-PythonData-py"
  },
  "language_info": {
   "codemirror_mode": {
    "name": "ipython",
    "version": 3
   },
   "file_extension": ".py",
   "mimetype": "text/x-python",
   "name": "python",
   "nbconvert_exporter": "python",
   "pygments_lexer": "ipython3",
   "version": "3.7.1"
  }
 },
 "nbformat": 4,
 "nbformat_minor": 4
}
