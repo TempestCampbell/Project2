{
 "cells": [
  {
   "cell_type": "code",
   "execution_count": 16,
   "metadata": {},
   "outputs": [
    {
     "ename": "ModuleNotFoundError",
     "evalue": "No module named 'Flask'",
     "output_type": "error",
     "traceback": [
      "\u001b[1;31m---------------------------------------------------------------------------\u001b[0m",
      "\u001b[1;31mModuleNotFoundError\u001b[0m                       Traceback (most recent call last)",
      "\u001b[1;32m<ipython-input-16-eb68da96d279>\u001b[0m in \u001b[0;36m<module>\u001b[1;34m\u001b[0m\n\u001b[0;32m      1\u001b[0m \u001b[1;32mimport\u001b[0m \u001b[0mpsycopg2\u001b[0m\u001b[1;33m\u001b[0m\u001b[1;33m\u001b[0m\u001b[0m\n\u001b[1;32m----> 2\u001b[1;33m \u001b[1;32mfrom\u001b[0m \u001b[0mFlask\u001b[0m \u001b[1;32mimport\u001b[0m \u001b[0mjsonify\u001b[0m\u001b[1;33m\u001b[0m\u001b[1;33m\u001b[0m\u001b[0m\n\u001b[0m",
      "\u001b[1;31mModuleNotFoundError\u001b[0m: No module named 'Flask'"
     ]
    }
   ],
   "source": [
    "import psycopg2\n",
    "from Flask import jsonify"
   ]
  },
  {
   "cell_type": "code",
   "execution_count": 11,
   "metadata": {},
   "outputs": [],
   "source": [
    "conn=psycopg2.connect(host=\"localhost\",port=5432, database=\"WineCharcuterieDB\",user=\"postgres\",password=\"postgres\")"
   ]
  },
  {
   "cell_type": "code",
   "execution_count": 12,
   "metadata": {},
   "outputs": [],
   "source": [
    "cur=conn.cursor()"
   ]
  },
  {
   "cell_type": "code",
   "execution_count": 15,
   "metadata": {},
   "outputs": [
    {
     "name": "stdout",
     "output_type": "stream",
     "text": [
      "[('Italy', 37), ('Spain', 22), ('France', 12), ('US', 8), ('Portugal', 8), ('Germany', 5), ('Croatia', 5), ('Bulgaria', 4), ('Switzerland', 3), ('Slovenia', 2), ('Romania', 2), ('Austria', 2), ('Serbia', 2), ('Turkey', 2), ('Canada', 2), ('Hungary', 2), ('Luxembourg', 1), ('Mexico', 1), ('South Africa', 1), ('Brazil', 1), ('Greece', 1), ('Lebanon', 0), ('New Zealand', 0), ('Uruguay', 0), ('Czech Republic', 0), ('Australia', 0), ('Macedonia', 0), ('Ukraine', 0), ('Argentina', 0), ('England', 0), ('Georgia', 0), ('India', 0), ('Morocco', 0), ('Moldova', 0), ('Chile', 0), ('Israel', 0), ('Peru', 0)]\n"
     ]
    }
   ],
   "source": [
    "cur.execute(\"\"\"SELECT countries.country, COUNT(worldmeats.country) as country_freq\n",
    "            FROM countries\n",
    "            LEFT JOIN worldmeats ON\n",
    "            countries.country = worldmeats.country\n",
    "            GROUP BY countries.country\n",
    "            ORDER BY country_freq DESC\"\"\")\n",
    "query_results=cur.fetchall()\n",
    "print(query_results)"
   ]
  },
  {
   "cell_type": "code",
   "execution_count": 12,
   "metadata": {},
   "outputs": [],
   "source": [
    "from sqlalchemy.orm import Session\n",
    "session = Session(bind=engine)"
   ]
  },
  {
   "cell_type": "markdown",
   "metadata": {},
   "source": [
    "# Wine by country query\n"
   ]
  },
  {
   "cell_type": "code",
   "execution_count": 21,
   "metadata": {},
   "outputs": [
    {
     "name": "stdout",
     "output_type": "stream",
     "text": [
      "What country do you want to search by: US\n",
      "How many items do you want to display: 10\n",
      "Smithfield Ham\n",
      "Tasso Ham\n",
      "Country Ham\n",
      "Jerky\n",
      "Chipped Beef\n",
      "Pemmican\n",
      "Pepperoni\n",
      "Prasky\n"
     ]
    }
   ],
   "source": [
    "countryInput=input(\"What country do you want to search by: \")\n",
    "numInput=input(\"How many items do you want to display: \")\n",
    "\n",
    "allMeats=session.query(WorldMeats).filter_by(country=countryInput).limit(numInput)\n",
    "for meat in allMeats:\n",
    "    print(meat.name)"
   ]
  },
  {
   "cell_type": "code",
   "execution_count": 18,
   "metadata": {},
   "outputs": [],
   "source": [
    "import sqlalchemy\n",
    "from sqlalchemy.ext.automap import automap_base\n",
    "from sqlalchemy.orm import Session\n",
    "from sqlalchemy import create_engine, func"
   ]
  },
  {
   "cell_type": "code",
   "execution_count": null,
   "metadata": {},
   "outputs": [],
   "source": [
    "engine=create_engine(\"postgresql:\")"
   ]
  }
 ],
 "metadata": {
  "kernelspec": {
   "display_name": "Python [conda env:PythonData] *",
   "language": "python",
   "name": "conda-env-PythonData-py"
  },
  "language_info": {
   "codemirror_mode": {
    "name": "ipython",
    "version": 3
   },
   "file_extension": ".py",
   "mimetype": "text/x-python",
   "name": "python",
   "nbconvert_exporter": "python",
   "pygments_lexer": "ipython3",
   "version": "3.7.1"
  }
 },
 "nbformat": 4,
 "nbformat_minor": 4
}
