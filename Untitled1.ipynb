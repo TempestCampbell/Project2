{
 "cells": [
  {
   "cell_type": "code",
   "execution_count": 1,
   "metadata": {},
   "outputs": [
    {
     "data": {
      "text/plain": [
       "['C:\\\\Users\\\\Tempe\\\\OneDrive\\\\desktop\\\\UofD\\\\Homework_2021\\\\Project2',\n",
       " 'C:\\\\Users\\\\Tempe\\\\anaconda3\\\\envs\\\\PythonData\\\\python37.zip',\n",
       " 'C:\\\\Users\\\\Tempe\\\\anaconda3\\\\envs\\\\PythonData\\\\DLLs',\n",
       " 'C:\\\\Users\\\\Tempe\\\\anaconda3\\\\envs\\\\PythonData\\\\lib',\n",
       " 'C:\\\\Users\\\\Tempe\\\\anaconda3\\\\envs\\\\PythonData',\n",
       " '',\n",
       " 'C:\\\\Users\\\\Tempe\\\\anaconda3\\\\envs\\\\PythonData\\\\lib\\\\site-packages',\n",
       " 'C:\\\\Users\\\\Tempe\\\\anaconda3\\\\envs\\\\PythonData\\\\lib\\\\site-packages\\\\win32',\n",
       " 'C:\\\\Users\\\\Tempe\\\\anaconda3\\\\envs\\\\PythonData\\\\lib\\\\site-packages\\\\win32\\\\lib',\n",
       " 'C:\\\\Users\\\\Tempe\\\\anaconda3\\\\envs\\\\PythonData\\\\lib\\\\site-packages\\\\Pythonwin',\n",
       " 'C:\\\\Users\\\\Tempe\\\\anaconda3\\\\envs\\\\PythonData\\\\lib\\\\site-packages\\\\IPython\\\\extensions',\n",
       " 'C:\\\\Users\\\\Tempe\\\\.ipython']"
      ]
     },
     "execution_count": 1,
     "metadata": {},
     "output_type": "execute_result"
    }
   ],
   "source": [
    "import sys\n",
    "\n",
    "sys.path"
   ]
  }
 ],
 "metadata": {
  "kernelspec": {
   "display_name": "Python [conda env:PythonData]",
   "language": "python",
   "name": "conda-env-PythonData-py"
  },
  "language_info": {
   "codemirror_mode": {
    "name": "ipython",
    "version": 3
   },
   "file_extension": ".py",
   "mimetype": "text/x-python",
   "name": "python",
   "nbconvert_exporter": "python",
   "pygments_lexer": "ipython3",
   "version": "3.7.1"
  }
 },
 "nbformat": 4,
 "nbformat_minor": 4
}
