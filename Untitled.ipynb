{
 "cells": [
  {
   "cell_type": "code",
   "execution_count": 26,
   "metadata": {},
   "outputs": [
    {
     "name": "stdout",
     "output_type": "stream",
     "text": [
      "Requirement already satisfied: pandas==0.24.2 in c:\\users\\katty\\anaconda3\\envs\\geo_env\\lib\\site-packages (0.24.2)\n",
      "Requirement already satisfied: pytz>=2011k in c:\\users\\katty\\anaconda3\\envs\\geo_env\\lib\\site-packages (from pandas==0.24.2) (2021.1)\n",
      "Requirement already satisfied: numpy>=1.12.0 in c:\\users\\katty\\anaconda3\\envs\\geo_env\\lib\\site-packages (from pandas==0.24.2) (1.20.0)\n",
      "Requirement already satisfied: python-dateutil>=2.5.0 in c:\\users\\katty\\anaconda3\\envs\\geo_env\\lib\\site-packages (from pandas==0.24.2) (2.8.1)\n",
      "Requirement already satisfied: six>=1.5 in c:\\users\\katty\\anaconda3\\envs\\geo_env\\lib\\site-packages (from python-dateutil>=2.5.0->pandas==0.24.2) (1.15.0)\n"
     ]
    }
   ],
   "source": [
    "!pip install pandas==0.24.2"
   ]
  },
  {
   "cell_type": "code",
   "execution_count": 28,
   "metadata": {},
   "outputs": [
    {
     "name": "stdout",
     "output_type": "stream",
     "text": [
      "Collecting geopandas==0.6.1\n",
      "  Downloading geopandas-0.6.1-py2.py3-none-any.whl (918 kB)\n",
      "Requirement already satisfied: pandas>=0.23.0 in c:\\users\\katty\\anaconda3\\envs\\geo_env\\lib\\site-packages (from geopandas==0.6.1) (0.24.2)\n",
      "Requirement already satisfied: fiona in c:\\users\\katty\\anaconda3\\envs\\geo_env\\lib\\site-packages (from geopandas==0.6.1) (1.8.18)\n",
      "Requirement already satisfied: shapely in c:\\users\\katty\\anaconda3\\envs\\geo_env\\lib\\site-packages (from geopandas==0.6.1) (1.7.1)\n",
      "Requirement already satisfied: pyproj in c:\\users\\katty\\anaconda3\\envs\\geo_env\\lib\\site-packages (from geopandas==0.6.1) (3.0.0.post1)\n",
      "Requirement already satisfied: pytz>=2011k in c:\\users\\katty\\anaconda3\\envs\\geo_env\\lib\\site-packages (from pandas>=0.23.0->geopandas==0.6.1) (2021.1)\n",
      "Requirement already satisfied: numpy>=1.12.0 in c:\\users\\katty\\anaconda3\\envs\\geo_env\\lib\\site-packages (from pandas>=0.23.0->geopandas==0.6.1) (1.20.0)\n",
      "Requirement already satisfied: python-dateutil>=2.5.0 in c:\\users\\katty\\anaconda3\\envs\\geo_env\\lib\\site-packages (from pandas>=0.23.0->geopandas==0.6.1) (2.8.1)\n",
      "Requirement already satisfied: six>=1.5 in c:\\users\\katty\\anaconda3\\envs\\geo_env\\lib\\site-packages (from python-dateutil>=2.5.0->pandas>=0.23.0->geopandas==0.6.1) (1.15.0)\n",
      "Requirement already satisfied: attrs>=17 in c:\\users\\katty\\anaconda3\\envs\\geo_env\\lib\\site-packages (from fiona->geopandas==0.6.1) (20.3.0)\n",
      "Requirement already satisfied: certifi in c:\\users\\katty\\anaconda3\\envs\\geo_env\\lib\\site-packages (from fiona->geopandas==0.6.1) (2020.12.5)\n",
      "Requirement already satisfied: click<8,>=4.0 in c:\\users\\katty\\anaconda3\\envs\\geo_env\\lib\\site-packages (from fiona->geopandas==0.6.1) (7.1.2)\n",
      "Requirement already satisfied: cligj>=0.5 in c:\\users\\katty\\anaconda3\\envs\\geo_env\\lib\\site-packages (from fiona->geopandas==0.6.1) (0.7.1)\n",
      "Requirement already satisfied: click-plugins>=1.0 in c:\\users\\katty\\anaconda3\\envs\\geo_env\\lib\\site-packages (from fiona->geopandas==0.6.1) (1.1.1)\n",
      "Requirement already satisfied: munch in c:\\users\\katty\\anaconda3\\envs\\geo_env\\lib\\site-packages (from fiona->geopandas==0.6.1) (2.5.0)\n",
      "Installing collected packages: geopandas\n",
      "  Attempting uninstall: geopandas\n",
      "    Found existing installation: geopandas 0.8.2\n",
      "    Uninstalling geopandas-0.8.2:\n",
      "      Successfully uninstalled geopandas-0.8.2\n",
      "Successfully installed geopandas-0.6.1\n"
     ]
    }
   ],
   "source": [
    "!pip install geopandas==0.6.1"
   ]
  },
  {
   "cell_type": "code",
   "execution_count": null,
   "metadata": {},
   "outputs": [],
   "source": [
    "# !pip install gdal==2.3.3"
   ]
  },
  {
   "cell_type": "code",
   "execution_count": null,
   "metadata": {},
   "outputs": [],
   "source": [
    "# !pip install shapely==1.6.4"
   ]
  },
  {
   "cell_type": "code",
   "execution_count": null,
   "metadata": {},
   "outputs": [],
   "source": [
    "# !pip install pyproj==1.9.6"
   ]
  },
  {
   "cell_type": "code",
   "execution_count": null,
   "metadata": {},
   "outputs": [],
   "source": [
    "# !pip install rtree==0.8.3"
   ]
  },
  {
   "cell_type": "code",
   "execution_count": 34,
   "metadata": {},
   "outputs": [
    {
     "name": "stdout",
     "output_type": "stream",
     "text": [
      "Collecting fiona==1.8.4\n",
      "  Using cached Fiona-1.8.4.tar.gz (1.1 MB)\n"
     ]
    },
    {
     "name": "stderr",
     "output_type": "stream",
     "text": [
      "    ERROR: Command errored out with exit status 1:\n",
      "     command: 'C:\\Users\\katty\\Anaconda3\\envs\\geo_env\\python.exe' -c 'import sys, setuptools, tokenize; sys.argv[0] = '\"'\"'C:\\\\Users\\\\katty\\\\AppData\\\\Local\\\\Temp\\\\pip-install-rge8spur\\\\fiona_a3e539bc302040b8b871ae613b1771e6\\\\setup.py'\"'\"'; __file__='\"'\"'C:\\\\Users\\\\katty\\\\AppData\\\\Local\\\\Temp\\\\pip-install-rge8spur\\\\fiona_a3e539bc302040b8b871ae613b1771e6\\\\setup.py'\"'\"';f=getattr(tokenize, '\"'\"'open'\"'\"', open)(__file__);code=f.read().replace('\"'\"'\\r\\n'\"'\"', '\"'\"'\\n'\"'\"');f.close();exec(compile(code, __file__, '\"'\"'exec'\"'\"'))' egg_info --egg-base 'C:\\Users\\katty\\AppData\\Local\\Temp\\pip-pip-egg-info-tdm09paa'\n",
      "         cwd: C:\\Users\\katty\\AppData\\Local\\Temp\\pip-install-rge8spur\\fiona_a3e539bc302040b8b871ae613b1771e6\\\n",
      "    Complete output (1 lines):\n",
      "    A GDAL API version must be specified. Provide a path to gdal-config using a GDAL_CONFIG environment variable or use a GDAL_VERSION environment variable.\n",
      "    ----------------------------------------\n",
      "WARNING: Discarding https://files.pythonhosted.org/packages/3a/16/84960540e9fce61d767fd2f0f1d95f4c63e99ab5d8fddc308e8b51b059b8/Fiona-1.8.4.tar.gz#sha256=aec9ab2e3513c9503ec123b1a8573bee55fc6a66e2ac07088c3376bf6738a424 (from https://pypi.org/simple/fiona/). Command errored out with exit status 1: python setup.py egg_info Check the logs for full command output.\n",
      "ERROR: Could not find a version that satisfies the requirement fiona==1.8.4\n",
      "ERROR: No matching distribution found for fiona==1.8.4\n"
     ]
    }
   ],
   "source": [
    "# !pip install fiona==1.8.4"
   ]
  },
  {
   "cell_type": "code",
   "execution_count": 1,
   "metadata": {},
   "outputs": [],
   "source": [
    "# Dependencies\n",
    "import os\n",
    "import pandas as pd\n",
    "import numpy as np\n",
    "import geopandas as gpd\n",
    "import fiona\n",
    "import pyproj\n",
    "from pyproj import CRS\n",
    "from pyproj import Transformer\n",
    "import geojsonio\n",
    "from geojson import Feature, FeatureCollection, Point\n",
    "from shapely import wkt\n",
    "import chardet\n",
    "import sys, os, inspect\n",
    "currentdir = os.path.dirname(os.path.abspath(inspect.getfile(inspect.currentframe())))\n",
    "parentdir = os.path.dirname(currentdir)\n",
    "sys.path.insert(0, parentdir)"
   ]
  },
  {
   "cell_type": "code",
   "execution_count": 2,
   "metadata": {},
   "outputs": [
    {
     "name": "stdout",
     "output_type": "stream",
     "text": [
      "{'encoding': 'utf-8', 'confidence': 0.99, 'language': ''}\n"
     ]
    }
   ],
   "source": [
    "with open(\"data/CleanedCSV/globalWineCleaned.csv\", 'rb') as rawdata:\n",
    "    result = chardet.detect(rawdata.read(10000))\n",
    "print(result)"
   ]
  },
  {
   "cell_type": "code",
   "execution_count": 31,
   "metadata": {},
   "outputs": [
    {
     "data": {
      "text/html": [
       "<div>\n",
       "<style scoped>\n",
       "    .dataframe tbody tr th:only-of-type {\n",
       "        vertical-align: middle;\n",
       "    }\n",
       "\n",
       "    .dataframe tbody tr th {\n",
       "        vertical-align: top;\n",
       "    }\n",
       "\n",
       "    .dataframe thead th {\n",
       "        text-align: right;\n",
       "    }\n",
       "</style>\n",
       "<table border=\"1\" class=\"dataframe\">\n",
       "  <thead>\n",
       "    <tr style=\"text-align: right;\">\n",
       "      <th></th>\n",
       "      <th>Unnamed: 0</th>\n",
       "      <th>vintage</th>\n",
       "      <th>country</th>\n",
       "      <th>county</th>\n",
       "      <th>designation</th>\n",
       "      <th>points</th>\n",
       "      <th>price</th>\n",
       "      <th>province</th>\n",
       "      <th>title</th>\n",
       "      <th>variety</th>\n",
       "      <th>winery</th>\n",
       "    </tr>\n",
       "  </thead>\n",
       "  <tbody>\n",
       "    <tr>\n",
       "      <th>0</th>\n",
       "      <td>0</td>\n",
       "      <td>1919</td>\n",
       "      <td>Spain</td>\n",
       "      <td>Cava</td>\n",
       "      <td>1919 Brut Selecció</td>\n",
       "      <td>88</td>\n",
       "      <td>13.0</td>\n",
       "      <td>Catalonia</td>\n",
       "      <td>L'Arboc NV 1919 Brut Selecció Sparkling (Cava)</td>\n",
       "      <td>Sparkling Blend</td>\n",
       "      <td>L'Arboc</td>\n",
       "    </tr>\n",
       "    <tr>\n",
       "      <th>1</th>\n",
       "      <td>1</td>\n",
       "      <td>1929</td>\n",
       "      <td>Italy</td>\n",
       "      <td>Vernaccia di San Gimignano</td>\n",
       "      <td>NaN</td>\n",
       "      <td>87</td>\n",
       "      <td>14.0</td>\n",
       "      <td>Tuscany</td>\n",
       "      <td>Guidi 1929 2015 Vernaccia di San Gimignano</td>\n",
       "      <td>Vernaccia</td>\n",
       "      <td>Guidi 1929</td>\n",
       "    </tr>\n",
       "    <tr>\n",
       "      <th>2</th>\n",
       "      <td>2</td>\n",
       "      <td>1929</td>\n",
       "      <td>Italy</td>\n",
       "      <td>Sangiovese di Romagna Superiore</td>\n",
       "      <td>Prugneto</td>\n",
       "      <td>84</td>\n",
       "      <td>15.0</td>\n",
       "      <td>Central Italy</td>\n",
       "      <td>Poderi dal Nespoli 1929 2011 Prugneto (Sangiov...</td>\n",
       "      <td>Sangiovese</td>\n",
       "      <td>Poderi dal Nespoli 1929</td>\n",
       "    </tr>\n",
       "    <tr>\n",
       "      <th>3</th>\n",
       "      <td>3</td>\n",
       "      <td>1934</td>\n",
       "      <td>Portugal</td>\n",
       "      <td>NaN</td>\n",
       "      <td>Reserva Velho</td>\n",
       "      <td>93</td>\n",
       "      <td>495.0</td>\n",
       "      <td>Colares</td>\n",
       "      <td>Adega Viuva Gomes 1934 Reserva Velho Red (Cola...</td>\n",
       "      <td>Ramisco</td>\n",
       "      <td>Adega Viuva Gomes</td>\n",
       "    </tr>\n",
       "    <tr>\n",
       "      <th>4</th>\n",
       "      <td>4</td>\n",
       "      <td>1945</td>\n",
       "      <td>France</td>\n",
       "      <td>Rivesaltes</td>\n",
       "      <td>Legend Vintage</td>\n",
       "      <td>95</td>\n",
       "      <td>350.0</td>\n",
       "      <td>Languedoc-Roussillon</td>\n",
       "      <td>Gérard Bertrand 1945 Legend Vintage Red (Rives...</td>\n",
       "      <td>Red Blend</td>\n",
       "      <td>Gérard Bertrand</td>\n",
       "    </tr>\n",
       "    <tr>\n",
       "      <th>...</th>\n",
       "      <td>...</td>\n",
       "      <td>...</td>\n",
       "      <td>...</td>\n",
       "      <td>...</td>\n",
       "      <td>...</td>\n",
       "      <td>...</td>\n",
       "      <td>...</td>\n",
       "      <td>...</td>\n",
       "      <td>...</td>\n",
       "      <td>...</td>\n",
       "      <td>...</td>\n",
       "    </tr>\n",
       "    <tr>\n",
       "      <th>24566</th>\n",
       "      <td>24992</td>\n",
       "      <td>2016</td>\n",
       "      <td>Austria</td>\n",
       "      <td>NaN</td>\n",
       "      <td>Lust &amp; Laune</td>\n",
       "      <td>88</td>\n",
       "      <td>15.0</td>\n",
       "      <td>Niederösterreich</td>\n",
       "      <td>Familie Zull 2016 Lust &amp; Laune Rosé (Niederöst...</td>\n",
       "      <td>Rosé</td>\n",
       "      <td>Familie Zull</td>\n",
       "    </tr>\n",
       "    <tr>\n",
       "      <th>24567</th>\n",
       "      <td>24993</td>\n",
       "      <td>2016</td>\n",
       "      <td>Austria</td>\n",
       "      <td>NaN</td>\n",
       "      <td>Vorder Seiber Federspiel</td>\n",
       "      <td>90</td>\n",
       "      <td>25.0</td>\n",
       "      <td>Wachau</td>\n",
       "      <td>Jäger 2016 Vorder Seiber Federspiel Grüner Vel...</td>\n",
       "      <td>Grüner Veltliner</td>\n",
       "      <td>Jäger</td>\n",
       "    </tr>\n",
       "    <tr>\n",
       "      <th>24568</th>\n",
       "      <td>24994</td>\n",
       "      <td>1821</td>\n",
       "      <td>Italy</td>\n",
       "      <td>Prosecco</td>\n",
       "      <td>Cuvèe 1821 Brut</td>\n",
       "      <td>86</td>\n",
       "      <td>15.0</td>\n",
       "      <td>Veneto</td>\n",
       "      <td>Zonin NV Cuvèe 1821 Brut (Prosecco)</td>\n",
       "      <td>Glera</td>\n",
       "      <td>Zonin</td>\n",
       "    </tr>\n",
       "    <tr>\n",
       "      <th>24569</th>\n",
       "      <td>24995</td>\n",
       "      <td>1827</td>\n",
       "      <td>Spain</td>\n",
       "      <td>Jerez</td>\n",
       "      <td>Pedro Ximenez 1827 Sweet Sherry</td>\n",
       "      <td>94</td>\n",
       "      <td>14.0</td>\n",
       "      <td>Andalucia</td>\n",
       "      <td>Osborne NV Pedro Ximenez 1827 Sweet Sherry She...</td>\n",
       "      <td>Sherry</td>\n",
       "      <td>Osborne</td>\n",
       "    </tr>\n",
       "    <tr>\n",
       "      <th>24570</th>\n",
       "      <td>24996</td>\n",
       "      <td>1872</td>\n",
       "      <td>Spain</td>\n",
       "      <td>Cava</td>\n",
       "      <td>Reserva Cuvée Barcelona 1872</td>\n",
       "      <td>85</td>\n",
       "      <td>NaN</td>\n",
       "      <td>Catalonia</td>\n",
       "      <td>Codorníu NV Reserva Cuvée Barcelona 1872 Spark...</td>\n",
       "      <td>Sparkling Blend</td>\n",
       "      <td>Codorníu</td>\n",
       "    </tr>\n",
       "  </tbody>\n",
       "</table>\n",
       "<p>24571 rows × 11 columns</p>\n",
       "</div>"
      ],
      "text/plain": [
       "       Unnamed: 0  vintage   country                           county  \\\n",
       "0               0     1919     Spain                             Cava   \n",
       "1               1     1929     Italy       Vernaccia di San Gimignano   \n",
       "2               2     1929     Italy  Sangiovese di Romagna Superiore   \n",
       "3               3     1934  Portugal                              NaN   \n",
       "4               4     1945    France                       Rivesaltes   \n",
       "...           ...      ...       ...                              ...   \n",
       "24566       24992     2016   Austria                              NaN   \n",
       "24567       24993     2016   Austria                              NaN   \n",
       "24568       24994     1821     Italy                         Prosecco   \n",
       "24569       24995     1827     Spain                            Jerez   \n",
       "24570       24996     1872     Spain                             Cava   \n",
       "\n",
       "                           designation  points  price              province  \\\n",
       "0                   1919 Brut Selecció      88   13.0             Catalonia   \n",
       "1                                  NaN      87   14.0               Tuscany   \n",
       "2                             Prugneto      84   15.0         Central Italy   \n",
       "3                        Reserva Velho      93  495.0               Colares   \n",
       "4                       Legend Vintage      95  350.0  Languedoc-Roussillon   \n",
       "...                                ...     ...    ...                   ...   \n",
       "24566                     Lust & Laune      88   15.0      Niederösterreich   \n",
       "24567         Vorder Seiber Federspiel      90   25.0                Wachau   \n",
       "24568                  Cuvèe 1821 Brut      86   15.0                Veneto   \n",
       "24569  Pedro Ximenez 1827 Sweet Sherry      94   14.0             Andalucia   \n",
       "24570     Reserva Cuvée Barcelona 1872      85    NaN             Catalonia   \n",
       "\n",
       "                                                   title           variety  \\\n",
       "0         L'Arboc NV 1919 Brut Selecció Sparkling (Cava)   Sparkling Blend   \n",
       "1             Guidi 1929 2015 Vernaccia di San Gimignano         Vernaccia   \n",
       "2      Poderi dal Nespoli 1929 2011 Prugneto (Sangiov...        Sangiovese   \n",
       "3      Adega Viuva Gomes 1934 Reserva Velho Red (Cola...           Ramisco   \n",
       "4      Gérard Bertrand 1945 Legend Vintage Red (Rives...         Red Blend   \n",
       "...                                                  ...               ...   \n",
       "24566  Familie Zull 2016 Lust & Laune Rosé (Niederöst...              Rosé   \n",
       "24567  Jäger 2016 Vorder Seiber Federspiel Grüner Vel...  Grüner Veltliner   \n",
       "24568                Zonin NV Cuvèe 1821 Brut (Prosecco)             Glera   \n",
       "24569  Osborne NV Pedro Ximenez 1827 Sweet Sherry She...            Sherry   \n",
       "24570  Codorníu NV Reserva Cuvée Barcelona 1872 Spark...   Sparkling Blend   \n",
       "\n",
       "                        winery  \n",
       "0                      L'Arboc  \n",
       "1                   Guidi 1929  \n",
       "2      Poderi dal Nespoli 1929  \n",
       "3            Adega Viuva Gomes  \n",
       "4              Gérard Bertrand  \n",
       "...                        ...  \n",
       "24566             Familie Zull  \n",
       "24567                    Jäger  \n",
       "24568                    Zonin  \n",
       "24569                  Osborne  \n",
       "24570                 Codorníu  \n",
       "\n",
       "[24571 rows x 11 columns]"
      ]
     },
     "execution_count": 31,
     "metadata": {},
     "output_type": "execute_result"
    }
   ],
   "source": [
    "# Read data set\n",
    "df = pd.read_csv('data/CleanedCSV/globalWineCleaned.csv')\n",
    "df"
   ]
  },
  {
   "cell_type": "code",
   "execution_count": 32,
   "metadata": {},
   "outputs": [
    {
     "ename": "DriverError",
     "evalue": "Failed to read GeoJSON data",
     "output_type": "error",
     "traceback": [
      "\u001b[1;31m---------------------------------------------------------------------------\u001b[0m",
      "\u001b[1;31mCPLE_OpenFailedError\u001b[0m                      Traceback (most recent call last)",
      "\u001b[1;32mfiona/_shim.pyx\u001b[0m in \u001b[0;36mfiona._shim.gdal_open_vector\u001b[1;34m()\u001b[0m\n",
      "\u001b[1;32mfiona/_err.pyx\u001b[0m in \u001b[0;36mfiona._err.exc_wrap_pointer\u001b[1;34m()\u001b[0m\n",
      "\u001b[1;31mCPLE_OpenFailedError\u001b[0m: Failed to read GeoJSON data",
      "\nDuring handling of the above exception, another exception occurred:\n",
      "\u001b[1;31mDriverError\u001b[0m                               Traceback (most recent call last)",
      "\u001b[1;32m<ipython-input-32-d8da726af65b>\u001b[0m in \u001b[0;36m<module>\u001b[1;34m()\u001b[0m\n\u001b[0;32m      1\u001b[0m \u001b[1;31m# Read geojson\u001b[0m\u001b[1;33m\u001b[0m\u001b[1;33m\u001b[0m\u001b[1;33m\u001b[0m\u001b[0m\n\u001b[1;32m----> 2\u001b[1;33m \u001b[0mgeoCountries\u001b[0m\u001b[1;33m=\u001b[0m \u001b[0mgpd\u001b[0m\u001b[1;33m.\u001b[0m\u001b[0mread_file\u001b[0m\u001b[1;33m(\u001b[0m\u001b[1;34m'countriesmap.geojson'\u001b[0m\u001b[1;33m)\u001b[0m\u001b[1;33m\u001b[0m\u001b[1;33m\u001b[0m\u001b[0m\n\u001b[0m\u001b[0;32m      3\u001b[0m \u001b[0mgeoCountries\u001b[0m\u001b[1;33m.\u001b[0m\u001b[0mhead\u001b[0m\u001b[1;33m(\u001b[0m\u001b[1;33m)\u001b[0m\u001b[1;33m\u001b[0m\u001b[1;33m\u001b[0m\u001b[0m\n",
      "\u001b[1;32mC:\\Users\\katty\\Anaconda3\\envs\\geo_env\\lib\\site-packages\\geopandas\\io\\file.py\u001b[0m in \u001b[0;36m_read_file\u001b[1;34m(filename, bbox, mask, rows, **kwargs)\u001b[0m\n\u001b[0;32m     94\u001b[0m             \u001b[0mcolumns\u001b[0m \u001b[1;33m=\u001b[0m \u001b[0mlist\u001b[0m\u001b[1;33m(\u001b[0m\u001b[0mfeatures\u001b[0m\u001b[1;33m.\u001b[0m\u001b[0mmeta\u001b[0m\u001b[1;33m[\u001b[0m\u001b[1;34m\"schema\"\u001b[0m\u001b[1;33m]\u001b[0m\u001b[1;33m[\u001b[0m\u001b[1;34m\"properties\"\u001b[0m\u001b[1;33m]\u001b[0m\u001b[1;33m)\u001b[0m \u001b[1;33m+\u001b[0m \u001b[1;33m[\u001b[0m\u001b[1;34m\"geometry\"\u001b[0m\u001b[1;33m]\u001b[0m\u001b[1;33m\u001b[0m\u001b[1;33m\u001b[0m\u001b[0m\n\u001b[0;32m     95\u001b[0m             \u001b[0mgdf\u001b[0m \u001b[1;33m=\u001b[0m \u001b[0mGeoDataFrame\u001b[0m\u001b[1;33m.\u001b[0m\u001b[0mfrom_features\u001b[0m\u001b[1;33m(\u001b[0m\u001b[0mf_filt\u001b[0m\u001b[1;33m,\u001b[0m \u001b[0mcrs\u001b[0m\u001b[1;33m=\u001b[0m\u001b[0mcrs\u001b[0m\u001b[1;33m,\u001b[0m \u001b[0mcolumns\u001b[0m\u001b[1;33m=\u001b[0m\u001b[0mcolumns\u001b[0m\u001b[1;33m)\u001b[0m\u001b[1;33m\u001b[0m\u001b[1;33m\u001b[0m\u001b[0m\n\u001b[1;32m---> 96\u001b[1;33m \u001b[1;33m\u001b[0m\u001b[0m\n\u001b[0m\u001b[0;32m     97\u001b[0m     \u001b[1;32mreturn\u001b[0m \u001b[0mgdf\u001b[0m\u001b[1;33m\u001b[0m\u001b[1;33m\u001b[0m\u001b[0m\n\u001b[0;32m     98\u001b[0m \u001b[1;33m\u001b[0m\u001b[0m\n",
      "\u001b[1;32mC:\\Users\\katty\\Anaconda3\\envs\\geo_env\\lib\\site-packages\\fiona\\env.py\u001b[0m in \u001b[0;36mwrapper\u001b[1;34m(*args, **kwargs)\u001b[0m\n\u001b[0;32m    398\u001b[0m     \u001b[1;32mdef\u001b[0m \u001b[0mwrapper\u001b[0m\u001b[1;33m(\u001b[0m\u001b[1;33m*\u001b[0m\u001b[0margs\u001b[0m\u001b[1;33m,\u001b[0m \u001b[1;33m**\u001b[0m\u001b[0mkwargs\u001b[0m\u001b[1;33m)\u001b[0m\u001b[1;33m:\u001b[0m\u001b[1;33m\u001b[0m\u001b[1;33m\u001b[0m\u001b[0m\n\u001b[0;32m    399\u001b[0m         \u001b[1;32mif\u001b[0m \u001b[0mlocal\u001b[0m\u001b[1;33m.\u001b[0m\u001b[0m_env\u001b[0m\u001b[1;33m:\u001b[0m\u001b[1;33m\u001b[0m\u001b[1;33m\u001b[0m\u001b[0m\n\u001b[1;32m--> 400\u001b[1;33m             \u001b[1;32mreturn\u001b[0m \u001b[0mf\u001b[0m\u001b[1;33m(\u001b[0m\u001b[1;33m*\u001b[0m\u001b[0margs\u001b[0m\u001b[1;33m,\u001b[0m \u001b[1;33m**\u001b[0m\u001b[0mkwargs\u001b[0m\u001b[1;33m)\u001b[0m\u001b[1;33m\u001b[0m\u001b[1;33m\u001b[0m\u001b[0m\n\u001b[0m\u001b[0;32m    401\u001b[0m         \u001b[1;32melse\u001b[0m\u001b[1;33m:\u001b[0m\u001b[1;33m\u001b[0m\u001b[1;33m\u001b[0m\u001b[0m\n\u001b[0;32m    402\u001b[0m             \u001b[1;32mif\u001b[0m \u001b[0misinstance\u001b[0m\u001b[1;33m(\u001b[0m\u001b[0margs\u001b[0m\u001b[1;33m[\u001b[0m\u001b[1;36m0\u001b[0m\u001b[1;33m]\u001b[0m\u001b[1;33m,\u001b[0m \u001b[0mstr\u001b[0m\u001b[1;33m)\u001b[0m\u001b[1;33m:\u001b[0m\u001b[1;33m\u001b[0m\u001b[1;33m\u001b[0m\u001b[0m\n",
      "\u001b[1;32mC:\\Users\\katty\\Anaconda3\\envs\\geo_env\\lib\\site-packages\\fiona\\__init__.py\u001b[0m in \u001b[0;36mopen\u001b[1;34m(fp, mode, driver, schema, crs, encoding, layer, vfs, enabled_drivers, crs_wkt, **kwargs)\u001b[0m\n\u001b[0;32m    255\u001b[0m         \u001b[1;32mif\u001b[0m \u001b[0mmode\u001b[0m \u001b[1;32min\u001b[0m \u001b[1;33m(\u001b[0m\u001b[1;34m'a'\u001b[0m\u001b[1;33m,\u001b[0m \u001b[1;34m'r'\u001b[0m\u001b[1;33m)\u001b[0m\u001b[1;33m:\u001b[0m\u001b[1;33m\u001b[0m\u001b[1;33m\u001b[0m\u001b[0m\n\u001b[0;32m    256\u001b[0m             c = Collection(path, mode, driver=driver, encoding=encoding,\n\u001b[1;32m--> 257\u001b[1;33m                            layer=layer, enabled_drivers=enabled_drivers, **kwargs)\n\u001b[0m\u001b[0;32m    258\u001b[0m         \u001b[1;32melif\u001b[0m \u001b[0mmode\u001b[0m \u001b[1;33m==\u001b[0m \u001b[1;34m'w'\u001b[0m\u001b[1;33m:\u001b[0m\u001b[1;33m\u001b[0m\u001b[1;33m\u001b[0m\u001b[0m\n\u001b[0;32m    259\u001b[0m             \u001b[1;32mif\u001b[0m \u001b[0mschema\u001b[0m\u001b[1;33m:\u001b[0m\u001b[1;33m\u001b[0m\u001b[1;33m\u001b[0m\u001b[0m\n",
      "\u001b[1;32mC:\\Users\\katty\\Anaconda3\\envs\\geo_env\\lib\\site-packages\\fiona\\collection.py\u001b[0m in \u001b[0;36m__init__\u001b[1;34m(self, path, mode, driver, schema, crs, encoding, layer, vsi, archive, enabled_drivers, crs_wkt, ignore_fields, ignore_geometry, **kwargs)\u001b[0m\n\u001b[0;32m    160\u001b[0m             \u001b[1;32mif\u001b[0m \u001b[0mself\u001b[0m\u001b[1;33m.\u001b[0m\u001b[0mmode\u001b[0m \u001b[1;33m==\u001b[0m \u001b[1;34m'r'\u001b[0m\u001b[1;33m:\u001b[0m\u001b[1;33m\u001b[0m\u001b[1;33m\u001b[0m\u001b[0m\n\u001b[0;32m    161\u001b[0m                 \u001b[0mself\u001b[0m\u001b[1;33m.\u001b[0m\u001b[0msession\u001b[0m \u001b[1;33m=\u001b[0m \u001b[0mSession\u001b[0m\u001b[1;33m(\u001b[0m\u001b[1;33m)\u001b[0m\u001b[1;33m\u001b[0m\u001b[1;33m\u001b[0m\u001b[0m\n\u001b[1;32m--> 162\u001b[1;33m                 \u001b[0mself\u001b[0m\u001b[1;33m.\u001b[0m\u001b[0msession\u001b[0m\u001b[1;33m.\u001b[0m\u001b[0mstart\u001b[0m\u001b[1;33m(\u001b[0m\u001b[0mself\u001b[0m\u001b[1;33m,\u001b[0m \u001b[1;33m**\u001b[0m\u001b[0mkwargs\u001b[0m\u001b[1;33m)\u001b[0m\u001b[1;33m\u001b[0m\u001b[1;33m\u001b[0m\u001b[0m\n\u001b[0m\u001b[0;32m    163\u001b[0m             \u001b[1;32melif\u001b[0m \u001b[0mself\u001b[0m\u001b[1;33m.\u001b[0m\u001b[0mmode\u001b[0m \u001b[1;32min\u001b[0m \u001b[1;33m(\u001b[0m\u001b[1;34m'a'\u001b[0m\u001b[1;33m,\u001b[0m \u001b[1;34m'w'\u001b[0m\u001b[1;33m)\u001b[0m\u001b[1;33m:\u001b[0m\u001b[1;33m\u001b[0m\u001b[1;33m\u001b[0m\u001b[0m\n\u001b[0;32m    164\u001b[0m                 \u001b[0mself\u001b[0m\u001b[1;33m.\u001b[0m\u001b[0msession\u001b[0m \u001b[1;33m=\u001b[0m \u001b[0mWritingSession\u001b[0m\u001b[1;33m(\u001b[0m\u001b[1;33m)\u001b[0m\u001b[1;33m\u001b[0m\u001b[1;33m\u001b[0m\u001b[0m\n",
      "\u001b[1;32mfiona/ogrext.pyx\u001b[0m in \u001b[0;36mfiona.ogrext.Session.start\u001b[1;34m()\u001b[0m\n",
      "\u001b[1;32mfiona/_shim.pyx\u001b[0m in \u001b[0;36mfiona._shim.gdal_open_vector\u001b[1;34m()\u001b[0m\n",
      "\u001b[1;31mDriverError\u001b[0m: Failed to read GeoJSON data"
     ]
    }
   ],
   "source": [
    "# Read geojson \n",
    "geoCountries= gpd.read_file('countriesmap.geojson')\n",
    "geoCountries.head()"
   ]
  },
  {
   "cell_type": "code",
   "execution_count": null,
   "metadata": {},
   "outputs": [],
   "source": []
  }
 ],
 "metadata": {
  "kernelspec": {
   "display_name": "Python [conda env:geo_env]",
   "language": "python",
   "name": "conda-env-geo_env-py"
  },
  "language_info": {
   "codemirror_mode": {
    "name": "ipython",
    "version": 3
   },
   "file_extension": ".py",
   "mimetype": "text/x-python",
   "name": "python",
   "nbconvert_exporter": "python",
   "pygments_lexer": "ipython3",
   "version": "3.7.9"
  },
  "toc": {
   "base_numbering": 1,
   "nav_menu": {},
   "number_sections": true,
   "sideBar": true,
   "skip_h1_title": false,
   "title_cell": "Table of Contents",
   "title_sidebar": "Contents",
   "toc_cell": false,
   "toc_position": {},
   "toc_section_display": true,
   "toc_window_display": false
  }
 },
 "nbformat": 4,
 "nbformat_minor": 4
}
